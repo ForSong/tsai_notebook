{
 "cells": [
  {
   "cell_type": "markdown",
   "metadata": {},
   "source": [
    "# 多项式回归PolynomailFeatures"
   ]
  },
  {
   "cell_type": "code",
   "execution_count": 53,
   "metadata": {},
   "outputs": [],
   "source": [
    "from sklearn.preprocessing import PolynomialFeatures\n",
    "import numpy as np"
   ]
  },
  {
   "cell_type": "code",
   "execution_count": 54,
   "metadata": {},
   "outputs": [
    {
     "data": {
      "text/plain": "array([[1],\n       [2],\n       [3]])"
     },
     "execution_count": 54,
     "metadata": {},
     "output_type": "execute_result"
    }
   ],
   "source": [
    "# 生成一个一维的原始数据\n",
    "x = np.arange(1,4).reshape(-1,1)\n",
    "x"
   ]
  },
  {
   "cell_type": "code",
   "execution_count": 55,
   "metadata": {},
   "outputs": [],
   "source": [
    "# 二次多项式，参数degree控制多项式的次方\n",
    "poly = PolynomialFeatures(degree=2)\n",
    "# 接口transform直接调用\n",
    "x_ = poly.fit_transform(x)"
   ]
  },
  {
   "cell_type": "code",
   "execution_count": 56,
   "metadata": {},
   "outputs": [
    {
     "data": {
      "text/plain": "array([[1., 1., 1.],\n       [1., 2., 4.],\n       [1., 3., 9.]])"
     },
     "execution_count": 56,
     "metadata": {},
     "output_type": "execute_result"
    }
   ],
   "source": [
    "x_"
   ]
  },
  {
   "cell_type": "code",
   "execution_count": 57,
   "metadata": {},
   "outputs": [
    {
     "data": {
      "text/plain": "(3, 3)"
     },
     "execution_count": 57,
     "metadata": {},
     "output_type": "execute_result"
    }
   ],
   "source": [
    "x_.shape"
   ]
  },
  {
   "cell_type": "code",
   "execution_count": 58,
   "metadata": {},
   "outputs": [
    {
     "data": {
      "text/plain": "array([[ 1.,  1.,  1.,  1.],\n       [ 1.,  2.,  4.,  8.],\n       [ 1.,  3.,  9., 27.]])"
     },
     "execution_count": 58,
     "metadata": {},
     "output_type": "execute_result"
    }
   ],
   "source": [
    "# 三次多项式\n",
    "PolynomialFeatures(degree=3).fit_transform(x)"
   ]
  },
  {
   "cell_type": "code",
   "execution_count": 59,
   "metadata": {},
   "outputs": [
    {
     "data": {
      "text/plain": "array([[ 1.,  1.,  1.],\n       [ 2.,  4.,  8.],\n       [ 3.,  9., 27.]])"
     },
     "execution_count": 59,
     "metadata": {},
     "output_type": "execute_result"
    }
   ],
   "source": [
    "# 三次多项式，不带与截距相乘的x0\n",
    "PolynomialFeatures(degree=3,include_bias=False).fit_transform(x)"
   ]
  },
  {
   "cell_type": "code",
   "execution_count": 60,
   "metadata": {},
   "outputs": [
    {
     "data": {
      "text/plain": "(3, 4)"
     },
     "execution_count": 60,
     "metadata": {},
     "output_type": "execute_result"
    }
   ],
   "source": [
    "# 为什么不希望生成与截距x0相乘的部分呢？因为我们的线性回归并不知道我们已经准备了x0\n",
    "xxx = PolynomialFeatures(degree=3).fit_transform(x)\n",
    "xxx.shape"
   ]
  },
  {
   "cell_type": "code",
   "execution_count": 61,
   "metadata": {},
   "outputs": [
    {
     "data": {
      "text/plain": "array([[ 1.,  1.,  1.,  1.],\n       [ 1.,  2.,  4.,  8.],\n       [ 1.,  3.,  9., 27.]])"
     },
     "execution_count": 61,
     "metadata": {},
     "output_type": "execute_result"
    }
   ],
   "source": [
    "xxx"
   ]
  },
  {
   "cell_type": "code",
   "execution_count": 62,
   "metadata": {},
   "outputs": [],
   "source": [
    "rnd = np.random.RandomState(12)\n",
    "y = rnd.randn(3)"
   ]
  },
  {
   "cell_type": "code",
   "execution_count": 63,
   "metadata": {},
   "outputs": [
    {
     "data": {
      "text/plain": "array([ 0.47298583, -0.68142588,  0.2424395 ])"
     },
     "execution_count": 63,
     "metadata": {},
     "output_type": "execute_result"
    }
   ],
   "source": [
    "y"
   ]
  },
  {
   "cell_type": "code",
   "execution_count": 64,
   "metadata": {},
   "outputs": [
    {
     "data": {
      "text/plain": "array([ 4.94743135e-15, -5.66294100e-01, -9.82061407e-01,  3.36866658e-01])"
     },
     "execution_count": 64,
     "metadata": {},
     "output_type": "execute_result"
    }
   ],
   "source": [
    "from sklearn.linear_model import LinearRegression\n",
    "LinearRegression().fit(xxx,y).coef_"
   ]
  },
  {
   "cell_type": "code",
   "execution_count": 65,
   "metadata": {},
   "outputs": [
    {
     "data": {
      "text/plain": "1.6844746794326337"
     },
     "execution_count": 65,
     "metadata": {},
     "output_type": "execute_result"
    }
   ],
   "source": [
    "# 查看截距\n",
    "LinearRegression().fit(xxx,y).intercept_"
   ]
  },
  {
   "cell_type": "code",
   "execution_count": 66,
   "metadata": {},
   "outputs": [
    {
     "data": {
      "text/plain": "array([ 1.37189175,  0.00677461, -1.29464434,  0.38896381])"
     },
     "execution_count": 66,
     "metadata": {},
     "output_type": "execute_result"
    }
   ],
   "source": [
    "# 可以看出截距不在系数中，也就是单独生成的\n",
    "# 因此我们可以选择：关闭多项式回归中的include_bias\n",
    "# 也可以选择在线性回归中关闭fit_intercept\n",
    "LinearRegression(fit_intercept=False).fit(xxx,y).coef_"
   ]
  },
  {
   "cell_type": "code",
   "execution_count": 67,
   "metadata": {},
   "outputs": [
    {
     "data": {
      "text/plain": "0.0"
     },
     "execution_count": 67,
     "metadata": {},
     "output_type": "execute_result"
    }
   ],
   "source": [
    "LinearRegression(fit_intercept=False).fit(xxx,y).intercept_"
   ]
  },
  {
   "cell_type": "code",
   "execution_count": 68,
   "metadata": {},
   "outputs": [
    {
     "data": {
      "text/plain": "array([[0, 1],\n       [2, 3],\n       [4, 5]])"
     },
     "execution_count": 68,
     "metadata": {},
     "output_type": "execute_result"
    }
   ],
   "source": [
    "# 大多数的数据不会像上面这样是一维的，下面使用高维数据进行\n",
    "x = np.arange(6).reshape(3,2)\n",
    "x"
   ]
  },
  {
   "cell_type": "code",
   "execution_count": 69,
   "metadata": {},
   "outputs": [
    {
     "data": {
      "text/plain": "array([[ 1.,  0.,  1.,  0.,  0.,  1.],\n       [ 1.,  2.,  3.,  4.,  6.,  9.],\n       [ 1.,  4.,  5., 16., 20., 25.]])"
     },
     "execution_count": 69,
     "metadata": {},
     "output_type": "execute_result"
    }
   ],
   "source": [
    "PolynomialFeatures(degree=2).fit_transform(x)"
   ]
  },
  {
   "cell_type": "code",
   "execution_count": 70,
   "metadata": {},
   "outputs": [
    {
     "data": {
      "text/plain": "array([[  1.,   0.,   1.,   0.,   0.,   1.,   0.,   0.,   0.,   1.],\n       [  1.,   2.,   3.,   4.,   6.,   9.,   8.,  12.,  18.,  27.],\n       [  1.,   4.,   5.,  16.,  20.,  25.,  64.,  80., 100., 125.]])"
     },
     "execution_count": 70,
     "metadata": {},
     "output_type": "execute_result"
    }
   ],
   "source": [
    "PolynomialFeatures(degree=3).fit_transform(x)"
   ]
  },
  {
   "cell_type": "code",
   "execution_count": 71,
   "metadata": {},
   "outputs": [
    {
     "data": {
      "text/plain": "array([[ 1.,  0.,  1.,  0.],\n       [ 1.,  2.,  3.,  6.],\n       [ 1.,  4.,  5., 20.]])"
     },
     "execution_count": 71,
     "metadata": {},
     "output_type": "execute_result"
    }
   ],
   "source": [
    "# 只生成交互项\n",
    "PolynomialFeatures(degree=3,interaction_only=True).fit_transform(x)"
   ]
  },
  {
   "cell_type": "code",
   "execution_count": 72,
   "metadata": {},
   "outputs": [
    {
     "data": {
      "text/plain": "array([[0, 1, 2],\n       [3, 4, 5],\n       [6, 7, 8]])"
     },
     "execution_count": 72,
     "metadata": {},
     "output_type": "execute_result"
    }
   ],
   "source": [
    "# 更高维度的原始特征矩阵\n",
    "x = np.arange(9).reshape(3,3)\n",
    "x"
   ]
  },
  {
   "cell_type": "code",
   "execution_count": 73,
   "metadata": {},
   "outputs": [
    {
     "data": {
      "text/plain": "array([[ 1.,  0.,  1.,  2.,  0.,  0.,  0.,  1.,  2.,  4.],\n       [ 1.,  3.,  4.,  5.,  9., 12., 15., 16., 20., 25.],\n       [ 1.,  6.,  7.,  8., 36., 42., 48., 49., 56., 64.]])"
     },
     "execution_count": 73,
     "metadata": {},
     "output_type": "execute_result"
    }
   ],
   "source": [
    "PolynomialFeatures(degree=2).fit_transform(x)"
   ]
  },
  {
   "cell_type": "code",
   "execution_count": 74,
   "metadata": {},
   "outputs": [
    {
     "data": {
      "text/plain": "array([[  1.,   0.,   1.,   2.,   0.,   0.,   0.,   1.,   2.,   4.,   0.,\n          0.,   0.,   0.,   0.,   0.,   1.,   2.,   4.,   8.],\n       [  1.,   3.,   4.,   5.,   9.,  12.,  15.,  16.,  20.,  25.,  27.,\n         36.,  45.,  48.,  60.,  75.,  64.,  80., 100., 125.],\n       [  1.,   6.,   7.,   8.,  36.,  42.,  48.,  49.,  56.,  64., 216.,\n        252., 288., 294., 336., 384., 343., 392., 448., 512.]])"
     },
     "execution_count": 74,
     "metadata": {},
     "output_type": "execute_result"
    }
   ],
   "source": [
    "PolynomialFeatures(degree=3).fit_transform(x)"
   ]
  },
  {
   "cell_type": "code",
   "execution_count": 75,
   "metadata": {},
   "outputs": [],
   "source": [
    "# 使用多项式回归处理非线性问题\n",
    "from sklearn.linear_model import LinearRegression\n",
    "from sklearn.preprocessing import PolynomialFeatures as PF\n",
    "import numpy as np\n"
   ]
  },
  {
   "cell_type": "code",
   "execution_count": 76,
   "outputs": [],
   "source": [
    "# 设置随机种子\n",
    "rnd = np.random.RandomState(12)\n",
    "# 生成x\n",
    "x = rnd.uniform(-3,3,size=100)\n",
    "y = np.sin(x) + rnd.normal(size=len(x))\n"
   ],
   "metadata": {
    "collapsed": false,
    "pycharm": {
     "name": "#%%\n"
    }
   }
  },
  {
   "cell_type": "code",
   "execution_count": 77,
   "outputs": [
    {
     "data": {
      "text/plain": "array([-2.07502295,  1.44029818, -1.42010991,  0.20243636, -2.91255023,\n        2.51248205,  2.40428912, -2.79947143,  2.74169602, -2.17674407,\n       -1.29702988,  0.63649911,  2.66535082,  2.11641325, -2.9864446 ,\n        0.12735616,  0.3122258 , -0.08773552,  1.60880492, -2.03569948,\n        1.5873627 , -2.87514121, -2.18873893, -2.3023619 , -1.14061449,\n        1.02871587, -0.17262133,  1.89700979, -1.2624793 ,  1.39875587,\n        1.21573413, -1.03458314, -0.99211483,  2.86834847,  0.74749267,\n        2.70188115,  1.6048539 ,  1.95005552, -0.56015819, -0.29214953,\n       -0.59621024,  2.97082896, -1.93461494,  2.77558142, -0.48449838,\n       -0.45568532, -0.22110678, -0.75766111, -0.2069514 , -2.78899043,\n       -2.49436398,  1.39512419,  0.81719996, -2.83255327, -1.19897964,\n       -1.67488488, -2.66988004,  0.13947642, -0.50178206, -2.7106875 ,\n        0.43442709,  1.8210999 , -2.31838968, -1.33729671,  0.85006855,\n       -0.04357617,  0.03933645, -0.23135844,  2.36845844,  0.63466616,\n        0.62013362, -0.33676886, -0.1197193 ,  2.33068516, -1.74899707,\n        2.66748877, -2.55917974,  0.57091474, -2.81309357,  0.9915446 ,\n        0.82431297,  2.17479097,  2.64982627, -0.32623768,  1.01974579,\n        2.5459842 ,  0.7165408 , -1.0644856 , -1.08314213, -1.25125989,\n        2.74450454, -0.56424994,  2.67933493,  2.14314335,  1.133566  ,\n       -2.98027219,  2.400621  ,  2.51918923, -2.96454386,  0.85755689])"
     },
     "execution_count": 77,
     "metadata": {},
     "output_type": "execute_result"
    }
   ],
   "source": [
    "x"
   ],
   "metadata": {
    "collapsed": false,
    "pycharm": {
     "name": "#%%\n"
    }
   }
  },
  {
   "cell_type": "code",
   "execution_count": 78,
   "outputs": [],
   "source": [
    "# 将x升维度\n",
    "x = x.reshape(-1,1)"
   ],
   "metadata": {
    "collapsed": false,
    "pycharm": {
     "name": "#%%\n"
    }
   }
  },
  {
   "cell_type": "code",
   "execution_count": 79,
   "outputs": [],
   "source": [
    "# 创建测试数据\n",
    "line = np.linspace(-3,3,1000,endpoint=False).reshape(-1,1)"
   ],
   "metadata": {
    "collapsed": false,
    "pycharm": {
     "name": "#%%\n"
    }
   }
  },
  {
   "cell_type": "code",
   "execution_count": 80,
   "outputs": [
    {
     "data": {
      "text/plain": "(1000, 1)"
     },
     "execution_count": 80,
     "metadata": {},
     "output_type": "execute_result"
    }
   ],
   "source": [
    "line.shape"
   ],
   "metadata": {
    "collapsed": false,
    "pycharm": {
     "name": "#%%\n"
    }
   }
  },
  {
   "cell_type": "code",
   "execution_count": 81,
   "outputs": [
    {
     "data": {
      "text/plain": "0.25231731062760665"
     },
     "execution_count": 81,
     "metadata": {},
     "output_type": "execute_result"
    }
   ],
   "source": [
    "# 原始特征矩阵的拟合效果\n",
    "lr = LinearRegression().fit(x,y)\n",
    "# 对训练集的拟合\n",
    "lr.score(x,y)\n"
   ],
   "metadata": {
    "collapsed": false,
    "pycharm": {
     "name": "#%%\n"
    }
   }
  },
  {
   "cell_type": "code",
   "execution_count": 82,
   "outputs": [
    {
     "data": {
      "text/plain": "0.6473674404712557"
     },
     "execution_count": 82,
     "metadata": {},
     "output_type": "execute_result"
    }
   ],
   "source": [
    "import matplotlib.pyplot as plt\n",
    "# 对测试集的拟合\n",
    "lr.score(line,np.sin(line))"
   ],
   "metadata": {
    "collapsed": false,
    "pycharm": {
     "name": "#%%\n"
    }
   }
  },
  {
   "cell_type": "code",
   "execution_count": 98,
   "outputs": [
    {
     "data": {
      "text/plain": "<Figure size 1080x720 with 1 Axes>",
      "image/png": "[encoded data removed]"
     },
     "metadata": {
      "needs_background": "light"
     },
     "output_type": "display_data"
    }
   ],
   "source": [
    "d = [1,2,3,4,5]\n",
    "score_m = []\n",
    "score_mp = []\n",
    "score_mp_test = []\n",
    "for i in d:\n",
    "    lr_m = LinearRegression().fit(x,y)\n",
    "    x_ = PF(degree=i).fit_transform(x,y)\n",
    "    lr_mp = LinearRegression().fit(x_,y)\n",
    "    line = np.linspace(-3,3,1000,endpoint=False).reshape(-1,1)\n",
    "    line_ = PF(degree=i).fit_transform(line)\n",
    "    score_m.append(lr_m.score(x,y))\n",
    "    score_mp.append(lr_mp.score(x_,y))\n",
    "    score_mp_test.append(lr_mp.score(line_,np.sin(line)))\n",
    "plt.figure(figsize=(15,10))\n",
    "plt.plot(d,score_m,c='red',label='linear')\n",
    "plt.plot(d,score_mp,c='orange',label='linear_m_train')\n",
    "plt.plot(d,score_mp_test,c='k',label='linear_m_test')\n",
    "plt.legend()\n",
    "plt.show()"
   ],
   "metadata": {
    "collapsed": false,
    "pycharm": {
     "name": "#%%\n"
    }
   }
  },
  {
   "cell_type": "code",
   "execution_count": 84,
   "outputs": [
    {
     "data": {
      "text/plain": "0.25231731062760665"
     },
     "execution_count": 84,
     "metadata": {},
     "output_type": "execute_result"
    }
   ],
   "source": [
    "lr_m = LinearRegression().fit(x,y)\n",
    "x_ = PF(degree=4).fit_transform(x)\n",
    "lr_mp = LinearRegression().fit(x_,y)\n",
    "lr_m.score(x,y)"
   ],
   "metadata": {
    "collapsed": false,
    "pycharm": {
     "name": "#%%\n"
    }
   }
  },
  {
   "cell_type": "code",
   "execution_count": 101,
   "outputs": [
    {
     "data": {
      "text/plain": "4"
     },
     "execution_count": 101,
     "metadata": {},
     "output_type": "execute_result"
    }
   ],
   "source": [
    "score_mp_test.index(max(score_mp_test))"
   ],
   "metadata": {
    "collapsed": false,
    "pycharm": {
     "name": "#%%\n"
    }
   }
  },
  {
   "cell_type": "code",
   "execution_count": 102,
   "outputs": [
    {
     "data": {
      "text/plain": "<matplotlib.legend.Legend at 0x127677190>"
     },
     "execution_count": 102,
     "metadata": {},
     "output_type": "execute_result"
    },
    {
     "data": {
      "text/plain": "<Figure size 1152x288 with 1 Axes>",
      "image/png": "[encoded data removed]"
     },
     "metadata": {
      "needs_background": "light"
     },
     "output_type": "display_data"
    }
   ],
   "source": [
    "# encoding=utf-8\n",
    "import matplotlib.pyplot as plt\n",
    "\n",
    "# 月份\n",
    "x1 = ['2017-01', '2017-02', '2017-03', '2017-04', '2017-05', '2017-06', '2017-07', '2017-08',\n",
    "      '2017-09', '2017-10', '2017-11', '2017-12']\n",
    "\n",
    "# 体重\n",
    "y1 = [78, 12, 42, 32, 43, 70, 70, 74, 78, 70, 74, 80]\n",
    "\n",
    "\n",
    "x2 = ['2017-01', '2017-02', '2017-03', '2017-04', '2017-05', '2017-06', '2017-07', '2017-08',\n",
    "      '2017-09', '2017-10', '2017-11', '2017-12']\n",
    "\n",
    "# 体重\n",
    "y2 = [86, 85, 84, 80, 75, 70, 70, 74, 78, 70, 74, 80]\n",
    "# 设置画布大小\n",
    "plt.figure(figsize=(16, 4))\n",
    "\n",
    "# 标题\n",
    "plt.title(\"my weight\")\n",
    "\n",
    "# 数据\n",
    "plt.plot(x1, y1, label='weight changes', linewidth=3, color='r', marker='o',\n",
    "         markerfacecolor='blue', markersize=20)\n",
    "plt.plot(x2, y2, label='weight changes', linewidth=3, color='r', marker='o',\n",
    "         markerfacecolor='green', markersize=20)\n",
    "# 横坐标描述\n",
    "plt.xlabel('month')\n",
    "\n",
    "# 纵坐标描述\n",
    "plt.ylabel('weight')\n",
    "\n",
    "# 设置数字标签\n",
    "for a, b in zip(x1, y1):\n",
    "    plt.text(a, b, b, ha='center', va='bottom', fontsize=20)\n",
    "\n",
    "for a, b in zip(x2, y2):\n",
    "    plt.text(a, b, b, ha='center', va='bottom', fontsize=20)\n",
    "\n",
    "plt.legend()\n",
    "\n"
   ],
   "metadata": {
    "collapsed": false,
    "pycharm": {
     "name": "#%%\n"
    }
   }
  },
  {
   "cell_type": "code",
   "execution_count": 109,
   "outputs": [
    {
     "data": {
      "text/plain": "[(0.65, 1), (0.65, 2), (0.9, 3), (0.91, 4), (0.93, 5)]"
     },
     "execution_count": 109,
     "metadata": {},
     "output_type": "execute_result"
    }
   ],
   "source": [
    "[*zip(np.around(score_mp_test,decimals=2),d)]"
   ],
   "metadata": {
    "collapsed": false,
    "pycharm": {
     "name": "#%%\n"
    }
   }
  },
  {
   "cell_type": "code",
   "execution_count": null,
   "outputs": [],
   "source": [],
   "metadata": {
    "collapsed": false,
    "pycharm": {
     "name": "#%%\n"
    }
   }
  }
 ],
 "metadata": {
  "kernelspec": {
   "name": "python3",
   "language": "python",
   "display_name": "Python 3"
  },
  "language_info": {
   "codemirror_mode": {
    "name": "ipython",
    "version": 3
   },
   "file_extension": ".py",
   "mimetype": "text/x-python",
   "name": "python",
   "nbconvert_exporter": "python",
   "pygments_lexer": "ipython3",
   "version": "3.7.6"
  }
 },
 "nbformat": 4,
 "nbformat_minor": 4
}