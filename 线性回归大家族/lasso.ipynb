{
 "cells": [
  {
   "cell_type": "markdown",
   "metadata": {},
   "source": [
    "### lasso也是为了消除多重共线性，但是和岭回归不同，lasso使用的是L1范式\n",
    "### L1正则化可以将系数压缩到0，因此Lasso的主要应用并不是消除多重共线性，而是\n",
    "### 进行特征选择"
   ]
  },
  {
   "cell_type": "code",
   "execution_count": 1,
   "metadata": {},
   "outputs": [],
   "source": [
    "# 使用lasso做特征选择\n",
    "from sklearn.linear_model import Lasso,LinearRegression,Ridge\n",
    "from sklearn.model_selection import train_test_split\n",
    "import pandas as pd\n",
    "import numpy as np\n",
    "from sklearn.datasets import fetch_california_housing as fch\n",
    "import matplotlib.pyplot as plt"
   ]
  },
  {
   "cell_type": "code",
   "execution_count": 2,
   "metadata": {},
   "outputs": [],
   "source": [
    "housevalue = fch()"
   ]
  },
  {
   "cell_type": "code",
   "execution_count": 3,
   "metadata": {},
   "outputs": [],
   "source": [
    "x = housevalue.data"
   ]
  },
  {
   "cell_type": "code",
   "execution_count": 4,
   "metadata": {},
   "outputs": [],
   "source": [
    "x = pd.DataFrame(x)"
   ]
  },
  {
   "cell_type": "code",
   "execution_count": 5,
   "metadata": {},
   "outputs": [],
   "source": [
    "y = housevalue.target"
   ]
  },
  {
   "cell_type": "code",
   "execution_count": 6,
   "metadata": {},
   "outputs": [],
   "source": [
    "x.columns = [\"住户收入中位数\",\"房屋使用年代中位数\",\"平均房间数目\"\n",
    ",\"平均卧室数目\",\"街区人口\",\"平均入住率\",\"街区的纬度\",\"街区的经度\"]"
   ]
  },
  {
   "cell_type": "code",
   "execution_count": 7,
   "metadata": {},
   "outputs": [
    {
     "data": {
      "text/html": [
       "<div>\n",
       "<style scoped>\n",
       "    .dataframe tbody tr th:only-of-type {\n",
       "        vertical-align: middle;\n",
       "    }\n",
       "\n",
       "    .dataframe tbody tr th {\n",
       "        vertical-align: top;\n",
       "    }\n",
       "\n",
       "    .dataframe thead th {\n",
       "        text-align: right;\n",
       "    }\n",
       "</style>\n",
       "<table border=\"1\" class=\"dataframe\">\n",
       "  <thead>\n",
       "    <tr style=\"text-align: right;\">\n",
       "      <th></th>\n",
       "      <th>住户收入中位数</th>\n",
       "      <th>房屋使用年代中位数</th>\n",
       "      <th>平均房间数目</th>\n",
       "      <th>平均卧室数目</th>\n",
       "      <th>街区人口</th>\n",
       "      <th>平均入住率</th>\n",
       "      <th>街区的纬度</th>\n",
       "      <th>街区的经度</th>\n",
       "    </tr>\n",
       "  </thead>\n",
       "  <tbody>\n",
       "    <tr>\n",
       "      <th>0</th>\n",
       "      <td>8.3252</td>\n",
       "      <td>41.0</td>\n",
       "      <td>6.984127</td>\n",
       "      <td>1.023810</td>\n",
       "      <td>322.0</td>\n",
       "      <td>2.555556</td>\n",
       "      <td>37.88</td>\n",
       "      <td>-122.23</td>\n",
       "    </tr>\n",
       "    <tr>\n",
       "      <th>1</th>\n",
       "      <td>8.3014</td>\n",
       "      <td>21.0</td>\n",
       "      <td>6.238137</td>\n",
       "      <td>0.971880</td>\n",
       "      <td>2401.0</td>\n",
       "      <td>2.109842</td>\n",
       "      <td>37.86</td>\n",
       "      <td>-122.22</td>\n",
       "    </tr>\n",
       "    <tr>\n",
       "      <th>2</th>\n",
       "      <td>7.2574</td>\n",
       "      <td>52.0</td>\n",
       "      <td>8.288136</td>\n",
       "      <td>1.073446</td>\n",
       "      <td>496.0</td>\n",
       "      <td>2.802260</td>\n",
       "      <td>37.85</td>\n",
       "      <td>-122.24</td>\n",
       "    </tr>\n",
       "    <tr>\n",
       "      <th>3</th>\n",
       "      <td>5.6431</td>\n",
       "      <td>52.0</td>\n",
       "      <td>5.817352</td>\n",
       "      <td>1.073059</td>\n",
       "      <td>558.0</td>\n",
       "      <td>2.547945</td>\n",
       "      <td>37.85</td>\n",
       "      <td>-122.25</td>\n",
       "    </tr>\n",
       "    <tr>\n",
       "      <th>4</th>\n",
       "      <td>3.8462</td>\n",
       "      <td>52.0</td>\n",
       "      <td>6.281853</td>\n",
       "      <td>1.081081</td>\n",
       "      <td>565.0</td>\n",
       "      <td>2.181467</td>\n",
       "      <td>37.85</td>\n",
       "      <td>-122.25</td>\n",
       "    </tr>\n",
       "    <tr>\n",
       "      <th>...</th>\n",
       "      <td>...</td>\n",
       "      <td>...</td>\n",
       "      <td>...</td>\n",
       "      <td>...</td>\n",
       "      <td>...</td>\n",
       "      <td>...</td>\n",
       "      <td>...</td>\n",
       "      <td>...</td>\n",
       "    </tr>\n",
       "    <tr>\n",
       "      <th>20635</th>\n",
       "      <td>1.5603</td>\n",
       "      <td>25.0</td>\n",
       "      <td>5.045455</td>\n",
       "      <td>1.133333</td>\n",
       "      <td>845.0</td>\n",
       "      <td>2.560606</td>\n",
       "      <td>39.48</td>\n",
       "      <td>-121.09</td>\n",
       "    </tr>\n",
       "    <tr>\n",
       "      <th>20636</th>\n",
       "      <td>2.5568</td>\n",
       "      <td>18.0</td>\n",
       "      <td>6.114035</td>\n",
       "      <td>1.315789</td>\n",
       "      <td>356.0</td>\n",
       "      <td>3.122807</td>\n",
       "      <td>39.49</td>\n",
       "      <td>-121.21</td>\n",
       "    </tr>\n",
       "    <tr>\n",
       "      <th>20637</th>\n",
       "      <td>1.7000</td>\n",
       "      <td>17.0</td>\n",
       "      <td>5.205543</td>\n",
       "      <td>1.120092</td>\n",
       "      <td>1007.0</td>\n",
       "      <td>2.325635</td>\n",
       "      <td>39.43</td>\n",
       "      <td>-121.22</td>\n",
       "    </tr>\n",
       "    <tr>\n",
       "      <th>20638</th>\n",
       "      <td>1.8672</td>\n",
       "      <td>18.0</td>\n",
       "      <td>5.329513</td>\n",
       "      <td>1.171920</td>\n",
       "      <td>741.0</td>\n",
       "      <td>2.123209</td>\n",
       "      <td>39.43</td>\n",
       "      <td>-121.32</td>\n",
       "    </tr>\n",
       "    <tr>\n",
       "      <th>20639</th>\n",
       "      <td>2.3886</td>\n",
       "      <td>16.0</td>\n",
       "      <td>5.254717</td>\n",
       "      <td>1.162264</td>\n",
       "      <td>1387.0</td>\n",
       "      <td>2.616981</td>\n",
       "      <td>39.37</td>\n",
       "      <td>-121.24</td>\n",
       "    </tr>\n",
       "  </tbody>\n",
       "</table>\n",
       "<p>20640 rows × 8 columns</p>\n",
       "</div>"
      ],
      "text/plain": [
       "       住户收入中位数  房屋使用年代中位数    平均房间数目    平均卧室数目    街区人口     平均入住率  街区的纬度   街区的经度\n",
       "0       8.3252       41.0  6.984127  1.023810   322.0  2.555556  37.88 -122.23\n",
       "1       8.3014       21.0  6.238137  0.971880  2401.0  2.109842  37.86 -122.22\n",
       "2       7.2574       52.0  8.288136  1.073446   496.0  2.802260  37.85 -122.24\n",
       "3       5.6431       52.0  5.817352  1.073059   558.0  2.547945  37.85 -122.25\n",
       "4       3.8462       52.0  6.281853  1.081081   565.0  2.181467  37.85 -122.25\n",
       "...        ...        ...       ...       ...     ...       ...    ...     ...\n",
       "20635   1.5603       25.0  5.045455  1.133333   845.0  2.560606  39.48 -121.09\n",
       "20636   2.5568       18.0  6.114035  1.315789   356.0  3.122807  39.49 -121.21\n",
       "20637   1.7000       17.0  5.205543  1.120092  1007.0  2.325635  39.43 -121.22\n",
       "20638   1.8672       18.0  5.329513  1.171920   741.0  2.123209  39.43 -121.32\n",
       "20639   2.3886       16.0  5.254717  1.162264  1387.0  2.616981  39.37 -121.24\n",
       "\n",
       "[20640 rows x 8 columns]"
      ]
     },
     "execution_count": 7,
     "metadata": {},
     "output_type": "execute_result"
    }
   ],
   "source": [
    "x"
   ]
  },
  {
   "cell_type": "code",
   "execution_count": 8,
   "metadata": {},
   "outputs": [
    {
     "data": {
      "text/html": [
       "<div>\n",
       "<style scoped>\n",
       "    .dataframe tbody tr th:only-of-type {\n",
       "        vertical-align: middle;\n",
       "    }\n",
       "\n",
       "    .dataframe tbody tr th {\n",
       "        vertical-align: top;\n",
       "    }\n",
       "\n",
       "    .dataframe thead th {\n",
       "        text-align: right;\n",
       "    }\n",
       "</style>\n",
       "<table border=\"1\" class=\"dataframe\">\n",
       "  <thead>\n",
       "    <tr style=\"text-align: right;\">\n",
       "      <th></th>\n",
       "      <th>住户收入中位数</th>\n",
       "      <th>房屋使用年代中位数</th>\n",
       "      <th>平均房间数目</th>\n",
       "      <th>平均卧室数目</th>\n",
       "      <th>街区人口</th>\n",
       "      <th>平均入住率</th>\n",
       "      <th>街区的纬度</th>\n",
       "      <th>街区的经度</th>\n",
       "    </tr>\n",
       "  </thead>\n",
       "  <tbody>\n",
       "    <tr>\n",
       "      <th>0</th>\n",
       "      <td>8.3252</td>\n",
       "      <td>41.0</td>\n",
       "      <td>6.984127</td>\n",
       "      <td>1.023810</td>\n",
       "      <td>322.0</td>\n",
       "      <td>2.555556</td>\n",
       "      <td>37.88</td>\n",
       "      <td>-122.23</td>\n",
       "    </tr>\n",
       "    <tr>\n",
       "      <th>1</th>\n",
       "      <td>8.3014</td>\n",
       "      <td>21.0</td>\n",
       "      <td>6.238137</td>\n",
       "      <td>0.971880</td>\n",
       "      <td>2401.0</td>\n",
       "      <td>2.109842</td>\n",
       "      <td>37.86</td>\n",
       "      <td>-122.22</td>\n",
       "    </tr>\n",
       "    <tr>\n",
       "      <th>2</th>\n",
       "      <td>7.2574</td>\n",
       "      <td>52.0</td>\n",
       "      <td>8.288136</td>\n",
       "      <td>1.073446</td>\n",
       "      <td>496.0</td>\n",
       "      <td>2.802260</td>\n",
       "      <td>37.85</td>\n",
       "      <td>-122.24</td>\n",
       "    </tr>\n",
       "    <tr>\n",
       "      <th>3</th>\n",
       "      <td>5.6431</td>\n",
       "      <td>52.0</td>\n",
       "      <td>5.817352</td>\n",
       "      <td>1.073059</td>\n",
       "      <td>558.0</td>\n",
       "      <td>2.547945</td>\n",
       "      <td>37.85</td>\n",
       "      <td>-122.25</td>\n",
       "    </tr>\n",
       "    <tr>\n",
       "      <th>4</th>\n",
       "      <td>3.8462</td>\n",
       "      <td>52.0</td>\n",
       "      <td>6.281853</td>\n",
       "      <td>1.081081</td>\n",
       "      <td>565.0</td>\n",
       "      <td>2.181467</td>\n",
       "      <td>37.85</td>\n",
       "      <td>-122.25</td>\n",
       "    </tr>\n",
       "  </tbody>\n",
       "</table>\n",
       "</div>"
      ],
      "text/plain": [
       "   住户收入中位数  房屋使用年代中位数    平均房间数目    平均卧室数目    街区人口     平均入住率  街区的纬度   街区的经度\n",
       "0   8.3252       41.0  6.984127  1.023810   322.0  2.555556  37.88 -122.23\n",
       "1   8.3014       21.0  6.238137  0.971880  2401.0  2.109842  37.86 -122.22\n",
       "2   7.2574       52.0  8.288136  1.073446   496.0  2.802260  37.85 -122.24\n",
       "3   5.6431       52.0  5.817352  1.073059   558.0  2.547945  37.85 -122.25\n",
       "4   3.8462       52.0  6.281853  1.081081   565.0  2.181467  37.85 -122.25"
      ]
     },
     "execution_count": 8,
     "metadata": {},
     "output_type": "execute_result"
    }
   ],
   "source": [
    "x.head()"
   ]
  },
  {
   "cell_type": "code",
   "execution_count": 9,
   "metadata": {},
   "outputs": [],
   "source": [
    "x_train,x_test,y_train,y_test = train_test_split(x,y,test_size=0.25,random_state=120)"
   ]
  },
  {
   "cell_type": "code",
   "execution_count": 10,
   "metadata": {},
   "outputs": [],
   "source": [
    "# 每次分完测试集和训练集之后要记得恢复索引\n",
    "for i in [x_train,x_test]:\n",
    "    i.index = range(i.shape[0])"
   ]
  },
  {
   "cell_type": "code",
   "execution_count": 11,
   "metadata": {},
   "outputs": [
    {
     "data": {
      "text/plain": [
       "[45.310170760962166,\n",
       " 0.9608411868009503,\n",
       " -13.053683518663878,\n",
       " 83.8140293731168,\n",
       " -0.0004380236974967326,\n",
       " -0.42257282308464805,\n",
       " -41.84663540292528,\n",
       " -43.204016532441926]"
      ]
     },
     "execution_count": 11,
     "metadata": {},
     "output_type": "execute_result"
    }
   ],
   "source": [
    "# 分别用线性回归，岭回归和lasso进行拟合\n",
    "# 首先用线性回归进行拟合\n",
    "lr = LinearRegression().fit(x_train,y_train)\n",
    "# 用.coef_查看系数，因为系数的值太小，因此这里乘以100，然后转化为列表方便查看\n",
    "(lr.coef_*100).tolist()"
   ]
  },
  {
   "cell_type": "code",
   "execution_count": 12,
   "metadata": {},
   "outputs": [
    {
     "data": {
      "text/plain": [
       "[45.3101707609621,\n",
       " 0.9608411868009301,\n",
       " -13.053683518663792,\n",
       " 83.81402937311651,\n",
       " -0.00043802369748959804,\n",
       " -0.42257282308464883,\n",
       " -41.846635402925415,\n",
       " -43.20401653244211]"
      ]
     },
     "execution_count": 12,
     "metadata": {},
     "output_type": "execute_result"
    }
   ],
   "source": [
    "# 对岭回归进行拟合，这里的拟合使用的alpha=0，期望应该和线性回归获得同样的结果\n",
    "ridge = Ridge(alpha=0).fit(x_train,y_train)\n",
    "(ridge.coef_*100).tolist()"
   ]
  },
  {
   "cell_type": "code",
   "execution_count": 13,
   "metadata": {},
   "outputs": [
    {
     "data": {
      "text/plain": [
       "[37.793431328921244,\n",
       " 1.5659531087654257,\n",
       " -0.0,\n",
       " 0.0,\n",
       " 0.002102046055043671,\n",
       " -0.1628412888528827,\n",
       " -0.8325474144305034,\n",
       " -0.0]"
      ]
     },
     "execution_count": 13,
     "metadata": {},
     "output_type": "execute_result"
    }
   ],
   "source": [
    "# 对lasso（最小绝对收缩和选择算子）进行拟合，这里的alpha同样取0，此时应该和线性回归获得同样的结果\n",
    "lasso = Lasso(alpha=0.2).fit(x_train,y_train)\n",
    "(lasso.coef_*100).tolist()"
   ]
  },
  {
   "cell_type": "code",
   "execution_count": 14,
   "metadata": {},
   "outputs": [
    {
     "data": {
      "image/png": "[encoded data removed]",
      "text/plain": [
       "<Figure size 432x288 with 1 Axes>"
      ]
     },
     "metadata": {
      "needs_background": "light"
     },
     "output_type": "display_data"
    }
   ],
   "source": [
    "# 将系数进行绘图，\n",
    "plt.plot(range(1,9),(lr.coef_*100).tolist(),c='red',label='LR')\n",
    "plt.plot(range(1,9),(ridge.coef_*100).tolist(),c='orange',label='ridge')\n",
    "plt.plot(range(1,9),(lasso.coef_*100).tolist(),c='black',label='Lasso')\n",
    "plt.legend()\n",
    "plt.show()"
   ]
  },
  {
   "cell_type": "code",
   "execution_count": 15,
   "metadata": {},
   "outputs": [],
   "source": [
    "from sklearn.linear_model import LassoCV"
   ]
  },
  {
   "cell_type": "code",
   "execution_count": 16,
   "metadata": {},
   "outputs": [],
   "source": [
    "# 手动建立alpha取值范围\n",
    "alpha_range = np.logspace(-10,-2,200,base=10)\n",
    "# 形成以10为底的指数函数，10**(-10)到10**(-2)"
   ]
  },
  {
   "cell_type": "code",
   "execution_count": 17,
   "metadata": {},
   "outputs": [
    {
     "data": {
      "text/plain": [
       "array([1.00000000e-10, 1.09698580e-10, 1.20337784e-10, 1.32008840e-10,\n",
       "       1.44811823e-10, 1.58856513e-10, 1.74263339e-10, 1.91164408e-10,\n",
       "       2.09704640e-10, 2.30043012e-10, 2.52353917e-10, 2.76828663e-10,\n",
       "       3.03677112e-10, 3.33129479e-10, 3.65438307e-10, 4.00880633e-10,\n",
       "       4.39760361e-10, 4.82410870e-10, 5.29197874e-10, 5.80522552e-10,\n",
       "       6.36824994e-10, 6.98587975e-10, 7.66341087e-10, 8.40665289e-10,\n",
       "       9.22197882e-10, 1.01163798e-09, 1.10975250e-09, 1.21738273e-09,\n",
       "       1.33545156e-09, 1.46497140e-09, 1.60705282e-09, 1.76291412e-09,\n",
       "       1.93389175e-09, 2.12145178e-09, 2.32720248e-09, 2.55290807e-09,\n",
       "       2.80050389e-09, 3.07211300e-09, 3.37006433e-09, 3.69691271e-09,\n",
       "       4.05546074e-09, 4.44878283e-09, 4.88025158e-09, 5.35356668e-09,\n",
       "       5.87278661e-09, 6.44236351e-09, 7.06718127e-09, 7.75259749e-09,\n",
       "       8.50448934e-09, 9.32930403e-09, 1.02341140e-08, 1.12266777e-08,\n",
       "       1.23155060e-08, 1.35099352e-08, 1.48202071e-08, 1.62575567e-08,\n",
       "       1.78343088e-08, 1.95639834e-08, 2.14614120e-08, 2.35428641e-08,\n",
       "       2.58261876e-08, 2.83309610e-08, 3.10786619e-08, 3.40928507e-08,\n",
       "       3.73993730e-08, 4.10265811e-08, 4.50055768e-08, 4.93704785e-08,\n",
       "       5.41587138e-08, 5.94113398e-08, 6.51733960e-08, 7.14942899e-08,\n",
       "       7.84282206e-08, 8.60346442e-08, 9.43787828e-08, 1.03532184e-07,\n",
       "       1.13573336e-07, 1.24588336e-07, 1.36671636e-07, 1.49926843e-07,\n",
       "       1.64467618e-07, 1.80418641e-07, 1.97916687e-07, 2.17111795e-07,\n",
       "       2.38168555e-07, 2.61267523e-07, 2.86606762e-07, 3.14403547e-07,\n",
       "       3.44896226e-07, 3.78346262e-07, 4.15040476e-07, 4.55293507e-07,\n",
       "       4.99450512e-07, 5.47890118e-07, 6.01027678e-07, 6.59318827e-07,\n",
       "       7.23263390e-07, 7.93409667e-07, 8.70359136e-07, 9.54771611e-07,\n",
       "       1.04737090e-06, 1.14895100e-06, 1.26038293e-06, 1.38262217e-06,\n",
       "       1.51671689e-06, 1.66381689e-06, 1.82518349e-06, 2.00220037e-06,\n",
       "       2.19638537e-06, 2.40940356e-06, 2.64308149e-06, 2.89942285e-06,\n",
       "       3.18062569e-06, 3.48910121e-06, 3.82749448e-06, 4.19870708e-06,\n",
       "       4.60592204e-06, 5.05263107e-06, 5.54266452e-06, 6.08022426e-06,\n",
       "       6.66991966e-06, 7.31680714e-06, 8.02643352e-06, 8.80488358e-06,\n",
       "       9.65883224e-06, 1.05956018e-05, 1.16232247e-05, 1.27505124e-05,\n",
       "       1.39871310e-05, 1.53436841e-05, 1.68318035e-05, 1.84642494e-05,\n",
       "       2.02550194e-05, 2.22194686e-05, 2.43744415e-05, 2.67384162e-05,\n",
       "       2.93316628e-05, 3.21764175e-05, 3.52970730e-05, 3.87203878e-05,\n",
       "       4.24757155e-05, 4.65952567e-05, 5.11143348e-05, 5.60716994e-05,\n",
       "       6.15098579e-05, 6.74754405e-05, 7.40196000e-05, 8.11984499e-05,\n",
       "       8.90735464e-05, 9.77124154e-05, 1.07189132e-04, 1.17584955e-04,\n",
       "       1.28989026e-04, 1.41499130e-04, 1.55222536e-04, 1.70276917e-04,\n",
       "       1.86791360e-04, 2.04907469e-04, 2.24780583e-04, 2.46581108e-04,\n",
       "       2.70495973e-04, 2.96730241e-04, 3.25508860e-04, 3.57078596e-04,\n",
       "       3.91710149e-04, 4.29700470e-04, 4.71375313e-04, 5.17092024e-04,\n",
       "       5.67242607e-04, 6.22257084e-04, 6.82607183e-04, 7.48810386e-04,\n",
       "       8.21434358e-04, 9.01101825e-04, 9.88495905e-04, 1.08436597e-03,\n",
       "       1.18953407e-03, 1.30490198e-03, 1.43145894e-03, 1.57029012e-03,\n",
       "       1.72258597e-03, 1.88965234e-03, 2.07292178e-03, 2.27396575e-03,\n",
       "       2.49450814e-03, 2.73644000e-03, 3.00183581e-03, 3.29297126e-03,\n",
       "       3.61234270e-03, 3.96268864e-03, 4.34701316e-03, 4.76861170e-03,\n",
       "       5.23109931e-03, 5.73844165e-03, 6.29498899e-03, 6.90551352e-03,\n",
       "       7.57525026e-03, 8.30994195e-03, 9.11588830e-03, 1.00000000e-02])"
      ]
     },
     "execution_count": 17,
     "metadata": {},
     "output_type": "execute_result"
    }
   ],
   "source": [
    "alpha_range"
   ]
  },
  {
   "cell_type": "code",
   "execution_count": 18,
   "metadata": {},
   "outputs": [],
   "source": [
    "lasso_ = LassoCV(alphas=alpha_range\n",
    "                , cv=5 # 交叉验证的折数\n",
    "                ).fit(x_train,y_train)"
   ]
  },
  {
   "cell_type": "code",
   "execution_count": 19,
   "metadata": {},
   "outputs": [
    {
     "data": {
      "text/plain": [
       "0.0002967302408188873"
      ]
     },
     "execution_count": 19,
     "metadata": {},
     "output_type": "execute_result"
    }
   ],
   "source": [
    "lasso_.alpha_"
   ]
  },
  {
   "cell_type": "code",
   "execution_count": 20,
   "metadata": {
    "collapsed": true,
    "jupyter": {
     "outputs_hidden": true
    }
   },
   "outputs": [
    {
     "data": {
      "text/plain": [
       "array([[0.54437699, 0.53573139, 0.52582747, 0.50768512, 0.50401704],\n",
       "       [0.54357672, 0.53457349, 0.52494456, 0.50633983, 0.50317266],\n",
       "       [0.54292904, 0.5335968 , 0.5242218 , 0.50518952, 0.502479  ],\n",
       "       [0.5424079 , 0.53277958, 0.52363423, 0.50420423, 0.50192165],\n",
       "       [0.54198832, 0.53209422, 0.52315832, 0.5033583 , 0.50147404],\n",
       "       [0.54165307, 0.53152025, 0.52277455, 0.50263069, 0.50111713],\n",
       "       [0.54138671, 0.53103799, 0.52246513, 0.50200355, 0.50083428],\n",
       "       [0.5411765 , 0.53063296, 0.52221773, 0.5014619 , 0.50061177],\n",
       "       [0.54101204, 0.53029189, 0.52202039, 0.50099309, 0.50043732],\n",
       "       [0.54088462, 0.53000542, 0.52186445, 0.50058647, 0.50030355],\n",
       "       [0.54078729, 0.52976368, 0.52174177, 0.50023312, 0.50020111],\n",
       "       [0.54071419, 0.52955985, 0.52164648, 0.49992529, 0.50012529],\n",
       "       [0.54066035, 0.52938814, 0.52157306, 0.49965655, 0.50006953],\n",
       "       [0.54062218, 0.5292427 , 0.52151755, 0.4994216 , 0.50003093],\n",
       "       [0.54059616, 0.52911987, 0.52147624, 0.49921554, 0.50000487],\n",
       "       [0.54058005, 0.52901553, 0.52144641, 0.49903468, 0.49998914],\n",
       "       [0.54057156, 0.52892697, 0.52142576, 0.49887556, 0.49998195],\n",
       "       [0.54056878, 0.52885188, 0.52141228, 0.49873525, 0.49998054],\n",
       "       [0.54057068, 0.52878778, 0.52140448, 0.49861129, 0.49998386],\n",
       "       [0.54057598, 0.52873311, 0.52140111, 0.49850136, 0.49999073],\n",
       "       [0.54058377, 0.5286864 , 0.52140114, 0.49840403, 0.50000048],\n",
       "       [0.54059314, 0.52864654, 0.52140373, 0.4983176 , 0.50001175],\n",
       "       [0.54060388, 0.52861225, 0.52140824, 0.49824069, 0.50002422],\n",
       "       [0.54061538, 0.52858279, 0.52141413, 0.49817215, 0.50003741],\n",
       "       [0.54062728, 0.52855742, 0.52142098, 0.49811096, 0.50005097],\n",
       "       [0.54063929, 0.52853554, 0.52142845, 0.49805627, 0.50006459],\n",
       "       [0.54065122, 0.52851663, 0.52143627, 0.49800731, 0.50007822],\n",
       "       [0.5406629 , 0.5285003 , 0.52144426, 0.49796327, 0.50009138],\n",
       "       [0.54067409, 0.52848608, 0.52145225, 0.49792387, 0.50010409],\n",
       "       [0.54068497, 0.5284737 , 0.52146012, 0.49788849, 0.50011628],\n",
       "       [0.54069535, 0.52846291, 0.52146778, 0.49785667, 0.50012789],\n",
       "       [0.54070521, 0.52845348, 0.52147517, 0.49782802, 0.50013889],\n",
       "       [0.54071452, 0.52844523, 0.52148224, 0.49780219, 0.50014927],\n",
       "       [0.54072326, 0.52843799, 0.52148897, 0.4977789 , 0.50015902],\n",
       "       [0.54073146, 0.52843162, 0.52149534, 0.49775786, 0.50016815],\n",
       "       [0.54073912, 0.52842602, 0.52150134, 0.49773886, 0.50017667],\n",
       "       [0.54074625, 0.52842107, 0.52150696, 0.49772168, 0.5001846 ],\n",
       "       [0.54075288, 0.52841669, 0.52151223, 0.49770614, 0.50019197],\n",
       "       [0.54075902, 0.52841281, 0.52151712, 0.49769206, 0.5001988 ],\n",
       "       [0.54076472, 0.52840937, 0.52152169, 0.49767931, 0.50020517],\n",
       "       [0.54076998, 0.52840631, 0.52152593, 0.49766776, 0.50021101],\n",
       "       [0.54077484, 0.52840359, 0.52152986, 0.49765728, 0.5002164 ],\n",
       "       [0.54077931, 0.52840115, 0.52153349, 0.49764778, 0.50022137],\n",
       "       [0.54078344, 0.52839899, 0.52153685, 0.49763916, 0.50022594],\n",
       "       [0.5407872 , 0.52839704, 0.52153995, 0.49763133, 0.50023014],\n",
       "       [0.54079072, 0.5283953 , 0.5215428 , 0.49762421, 0.50023401],\n",
       "       [0.54079389, 0.52839374, 0.52154543, 0.49761775, 0.50023756],\n",
       "       [0.54079683, 0.52839234, 0.52154784, 0.49761188, 0.50024081],\n",
       "       [0.54079953, 0.52839108, 0.52155006, 0.49760655, 0.5002438 ],\n",
       "       [0.54080201, 0.52838994, 0.5215521 , 0.49760169, 0.50024654],\n",
       "       [0.54080427, 0.52838892, 0.52155397, 0.49759728, 0.50024905],\n",
       "       [0.54080635, 0.528388  , 0.52155568, 0.49759327, 0.50025134],\n",
       "       [0.54080825, 0.52838716, 0.52155725, 0.49758962, 0.50025344],\n",
       "       [0.54080999, 0.52838641, 0.52155869, 0.49758629, 0.50025537],\n",
       "       [0.54081158, 0.52838573, 0.52156001, 0.49758327, 0.50025713],\n",
       "       [0.54081304, 0.52838512, 0.52156121, 0.49758052, 0.50025874],\n",
       "       [0.54081437, 0.52838456, 0.52156232, 0.49757801, 0.50026021],\n",
       "       [0.54081558, 0.52838406, 0.52156333, 0.49757573, 0.50026155],\n",
       "       [0.54081669, 0.5283836 , 0.52156425, 0.49757365, 0.50026278],\n",
       "       [0.54081771, 0.52838319, 0.52156509, 0.49757176, 0.5002639 ],\n",
       "       [0.54081863, 0.52838281, 0.52156586, 0.49757004, 0.50026493],\n",
       "       [0.54081948, 0.52838247, 0.52156657, 0.49756847, 0.50026586],\n",
       "       [0.54082025, 0.52838216, 0.52156721, 0.49756704, 0.50026672],\n",
       "       [0.54082096, 0.52838188, 0.5215678 , 0.49756574, 0.50026749],\n",
       "       [0.5408216 , 0.52838163, 0.52156833, 0.49756455, 0.50026821],\n",
       "       [0.54082219, 0.5283814 , 0.52156882, 0.49756347, 0.50026886],\n",
       "       [0.54082272, 0.52838119, 0.52156927, 0.49756249, 0.50026945],\n",
       "       [0.54082321, 0.528381  , 0.52156968, 0.49756159, 0.50026999],\n",
       "       [0.54082366, 0.52838082, 0.52157005, 0.49756078, 0.50027048],\n",
       "       [0.54082407, 0.52838066, 0.52157039, 0.49756003, 0.50027093],\n",
       "       [0.54082444, 0.52838052, 0.5215707 , 0.49755935, 0.50027134],\n",
       "       [0.54082478, 0.52838039, 0.52157098, 0.49755873, 0.50027172],\n",
       "       [0.54082509, 0.52838027, 0.52157124, 0.49755817, 0.50027206],\n",
       "       [0.54082537, 0.52838016, 0.52157148, 0.49755766, 0.50027237],\n",
       "       [0.54082563, 0.52838006, 0.52157169, 0.49755719, 0.50027266],\n",
       "       [0.54082586, 0.52837997, 0.52157189, 0.49755676, 0.50027292],\n",
       "       [0.54082608, 0.52837989, 0.52157207, 0.49755637, 0.50027315],\n",
       "       [0.54082627, 0.52837982, 0.52157223, 0.49755602, 0.50027337],\n",
       "       [0.54082645, 0.52837975, 0.52157238, 0.4975557 , 0.50027357],\n",
       "       [0.54082661, 0.52837969, 0.52157251, 0.4975554 , 0.50027374],\n",
       "       [0.54082676, 0.52837963, 0.52157264, 0.49755514, 0.50027391],\n",
       "       [0.54082689, 0.52837958, 0.52157275, 0.49755489, 0.50027406],\n",
       "       [0.54082702, 0.52837953, 0.52157285, 0.49755467, 0.50027419],\n",
       "       [0.54082713, 0.52837949, 0.52157294, 0.49755446, 0.50027432],\n",
       "       [0.54082723, 0.52837945, 0.52157303, 0.49755428, 0.50027443],\n",
       "       [0.54082732, 0.52837942, 0.52157311, 0.49755411, 0.50027453],\n",
       "       [0.54082741, 0.52837938, 0.52157318, 0.49755396, 0.50027463],\n",
       "       [0.54082749, 0.52837935, 0.52157324, 0.49755382, 0.50027471],\n",
       "       [0.54082756, 0.52837933, 0.5215733 , 0.49755369, 0.50027479],\n",
       "       [0.54082762, 0.5283793 , 0.52157336, 0.49755357, 0.50027486],\n",
       "       [0.54082768, 0.52837928, 0.52157341, 0.49755347, 0.50027493],\n",
       "       [0.54082773, 0.52837926, 0.52157345, 0.49755337, 0.50027499],\n",
       "       [0.54082778, 0.52837924, 0.52157349, 0.49755328, 0.50027504],\n",
       "       [0.54082783, 0.52837922, 0.52157353, 0.4975532 , 0.50027509],\n",
       "       [0.54082787, 0.52837921, 0.52157356, 0.49755313, 0.50027513],\n",
       "       [0.54082791, 0.5283792 , 0.52157359, 0.49755306, 0.50027518],\n",
       "       [0.54082794, 0.52837918, 0.52157362, 0.497553  , 0.50027521],\n",
       "       [0.54082797, 0.52837917, 0.52157365, 0.49755294, 0.50027525],\n",
       "       [0.540828  , 0.52837916, 0.52157367, 0.49755289, 0.50027528],\n",
       "       [0.54082802, 0.52837915, 0.52157369, 0.49755285, 0.50027531],\n",
       "       [0.54082805, 0.52837914, 0.52157371, 0.49755281, 0.50027533],\n",
       "       [0.54082807, 0.52837913, 0.52157373, 0.49755277, 0.50027536],\n",
       "       [0.54082809, 0.52837913, 0.52157375, 0.49755273, 0.50027538],\n",
       "       [0.5408281 , 0.52837912, 0.52157376, 0.4975527 , 0.5002754 ],\n",
       "       [0.54082812, 0.52837911, 0.52157377, 0.49755267, 0.50027541],\n",
       "       [0.54082814, 0.52837911, 0.52157379, 0.49755265, 0.50027543],\n",
       "       [0.54082815, 0.5283791 , 0.5215738 , 0.49755262, 0.50027544],\n",
       "       [0.54082816, 0.5283791 , 0.52157381, 0.4975526 , 0.50027546],\n",
       "       [0.54082817, 0.5283791 , 0.52157382, 0.49755258, 0.50027547],\n",
       "       [0.54082818, 0.52837909, 0.52157383, 0.49755256, 0.50027548],\n",
       "       [0.54082819, 0.52837909, 0.52157383, 0.49755254, 0.50027549],\n",
       "       [0.5408282 , 0.52837908, 0.52157384, 0.49755253, 0.5002755 ],\n",
       "       [0.54082821, 0.52837908, 0.52157385, 0.49755251, 0.50027551],\n",
       "       [0.54082821, 0.52837908, 0.52157385, 0.4975525 , 0.50027552],\n",
       "       [0.54082822, 0.52837908, 0.52157386, 0.49755249, 0.50027552],\n",
       "       [0.54082823, 0.52837907, 0.52157386, 0.49755248, 0.50027553],\n",
       "       [0.54082823, 0.52837907, 0.52157387, 0.49755247, 0.50027554],\n",
       "       [0.54082824, 0.52837907, 0.52157387, 0.49755246, 0.50027554],\n",
       "       [0.54082824, 0.52837907, 0.52157387, 0.49755245, 0.50027555],\n",
       "       [0.54082825, 0.52837907, 0.52157388, 0.49755245, 0.50027555],\n",
       "       [0.54082825, 0.52837907, 0.52157388, 0.49755244, 0.50027556],\n",
       "       [0.54082825, 0.52837906, 0.52157388, 0.49755243, 0.50027556],\n",
       "       [0.54082826, 0.52837906, 0.52157389, 0.49755243, 0.50027556],\n",
       "       [0.54082826, 0.52837906, 0.52157389, 0.49755242, 0.50027557],\n",
       "       [0.54082826, 0.52837906, 0.52157389, 0.49755242, 0.50027557],\n",
       "       [0.54082826, 0.52837906, 0.52157389, 0.49755241, 0.50027557],\n",
       "       [0.54082827, 0.52837906, 0.52157389, 0.49755241, 0.50027557],\n",
       "       [0.54082827, 0.52837906, 0.5215739 , 0.49755241, 0.50027558],\n",
       "       [0.54082827, 0.52837906, 0.5215739 , 0.4975524 , 0.50027558],\n",
       "       [0.54082827, 0.52837906, 0.5215739 , 0.4975524 , 0.50027558],\n",
       "       [0.54082827, 0.52837906, 0.5215739 , 0.4975524 , 0.50027558],\n",
       "       [0.54082827, 0.52837906, 0.5215739 , 0.4975524 , 0.50027558],\n",
       "       [0.54082827, 0.52837906, 0.5215739 , 0.49755239, 0.50027558],\n",
       "       [0.54082828, 0.52837906, 0.5215739 , 0.49755239, 0.50027558],\n",
       "       [0.54082828, 0.52837906, 0.5215739 , 0.49755239, 0.50027559],\n",
       "       [0.54082828, 0.52837906, 0.5215739 , 0.49755239, 0.50027559],\n",
       "       [0.54082828, 0.52837906, 0.52157391, 0.49755239, 0.50027559],\n",
       "       [0.54082828, 0.52837905, 0.52157391, 0.49755239, 0.50027559],\n",
       "       [0.54082828, 0.52837905, 0.52157391, 0.49755238, 0.50027559],\n",
       "       [0.54082828, 0.52837905, 0.52157391, 0.49755238, 0.50027559],\n",
       "       [0.54082828, 0.52837905, 0.52157391, 0.49755238, 0.50027559],\n",
       "       [0.54082828, 0.52837905, 0.52157391, 0.49755238, 0.50027559],\n",
       "       [0.54082828, 0.52837905, 0.52157391, 0.49755238, 0.50027559],\n",
       "       [0.54082828, 0.52837905, 0.52157391, 0.49755238, 0.50027559],\n",
       "       [0.54082828, 0.52837905, 0.52157391, 0.49755238, 0.50027559],\n",
       "       [0.54082828, 0.52837905, 0.52157391, 0.49755238, 0.50027559],\n",
       "       [0.54082828, 0.52837905, 0.52157391, 0.49755238, 0.50027559],\n",
       "       [0.54082828, 0.52837905, 0.52157391, 0.49755238, 0.50027559],\n",
       "       [0.54082828, 0.52837905, 0.52157391, 0.49755238, 0.50027559],\n",
       "       [0.54082828, 0.52837905, 0.52157391, 0.49755238, 0.50027559],\n",
       "       [0.54082828, 0.52837905, 0.52157391, 0.49755238, 0.50027559],\n",
       "       [0.54082828, 0.52837905, 0.52157391, 0.49755238, 0.50027559],\n",
       "       [0.54082829, 0.52837905, 0.52157391, 0.49755238, 0.5002756 ],\n",
       "       [0.54082829, 0.52837905, 0.52157391, 0.49755238, 0.5002756 ],\n",
       "       [0.54082829, 0.52837905, 0.52157391, 0.49755237, 0.5002756 ],\n",
       "       [0.54082829, 0.52837905, 0.52157391, 0.49755237, 0.5002756 ],\n",
       "       [0.54082829, 0.52837905, 0.52157391, 0.49755237, 0.5002756 ],\n",
       "       [0.54082829, 0.52837905, 0.52157391, 0.49755237, 0.5002756 ],\n",
       "       [0.54082829, 0.52837905, 0.52157391, 0.49755237, 0.5002756 ],\n",
       "       [0.54082829, 0.52837905, 0.52157391, 0.49755237, 0.5002756 ],\n",
       "       [0.54082829, 0.52837905, 0.52157391, 0.49755237, 0.5002756 ],\n",
       "       [0.54082829, 0.52837905, 0.52157391, 0.49755237, 0.5002756 ],\n",
       "       [0.54082829, 0.52837905, 0.52157391, 0.49755237, 0.5002756 ],\n",
       "       [0.54082829, 0.52837905, 0.52157391, 0.49755237, 0.5002756 ],\n",
       "       [0.54082829, 0.52837905, 0.52157391, 0.49755237, 0.5002756 ],\n",
       "       [0.54082829, 0.52837905, 0.52157391, 0.49755237, 0.5002756 ],\n",
       "       [0.54082829, 0.52837905, 0.52157391, 0.49755237, 0.5002756 ],\n",
       "       [0.54082829, 0.52837905, 0.52157391, 0.49755237, 0.5002756 ],\n",
       "       [0.54082829, 0.52837905, 0.52157391, 0.49755237, 0.5002756 ],\n",
       "       [0.54082829, 0.52837905, 0.52157391, 0.49755237, 0.5002756 ],\n",
       "       [0.54082829, 0.52837905, 0.52157391, 0.49755237, 0.5002756 ],\n",
       "       [0.54082829, 0.52837905, 0.52157391, 0.49755237, 0.5002756 ],\n",
       "       [0.54082829, 0.52837905, 0.52157391, 0.49755237, 0.5002756 ],\n",
       "       [0.54082829, 0.52837905, 0.52157391, 0.49755237, 0.5002756 ],\n",
       "       [0.54082829, 0.52837905, 0.52157391, 0.49755237, 0.5002756 ],\n",
       "       [0.54082829, 0.52837905, 0.52157391, 0.49755237, 0.5002756 ],\n",
       "       [0.54082829, 0.52837905, 0.52157391, 0.49755237, 0.5002756 ],\n",
       "       [0.54082829, 0.52837905, 0.52157391, 0.49755237, 0.5002756 ],\n",
       "       [0.54082829, 0.52837905, 0.52157391, 0.49755237, 0.5002756 ],\n",
       "       [0.54082829, 0.52837905, 0.52157391, 0.49755237, 0.5002756 ],\n",
       "       [0.54082829, 0.52837905, 0.52157391, 0.49755237, 0.5002756 ],\n",
       "       [0.54082829, 0.52837905, 0.52157391, 0.49755237, 0.5002756 ],\n",
       "       [0.54082829, 0.52837905, 0.52157391, 0.49755237, 0.5002756 ],\n",
       "       [0.54082829, 0.52837905, 0.52157391, 0.49755237, 0.5002756 ],\n",
       "       [0.54082829, 0.52837905, 0.52157391, 0.49755237, 0.5002756 ],\n",
       "       [0.54082829, 0.52837905, 0.52157391, 0.49755237, 0.5002756 ],\n",
       "       [0.54082829, 0.52837905, 0.52157391, 0.49755237, 0.5002756 ],\n",
       "       [0.54082829, 0.52837905, 0.52157391, 0.49755237, 0.5002756 ],\n",
       "       [0.54082829, 0.52837905, 0.52157391, 0.49755237, 0.5002756 ],\n",
       "       [0.54082829, 0.52837905, 0.52157391, 0.49755237, 0.5002756 ],\n",
       "       [0.54082829, 0.52837905, 0.52157391, 0.49755237, 0.5002756 ],\n",
       "       [0.54082829, 0.52837905, 0.52157391, 0.49755237, 0.5002756 ],\n",
       "       [0.54082829, 0.52837905, 0.52157391, 0.49755237, 0.5002756 ],\n",
       "       [0.54082829, 0.52837905, 0.52157391, 0.49755237, 0.5002756 ],\n",
       "       [0.54082829, 0.52837905, 0.52157391, 0.49755237, 0.5002756 ],\n",
       "       [0.54082829, 0.52837905, 0.52157391, 0.49755237, 0.5002756 ],\n",
       "       [0.54082829, 0.52837905, 0.52157391, 0.49755237, 0.5002756 ],\n",
       "       [0.54082829, 0.52837905, 0.52157391, 0.49755237, 0.5002756 ],\n",
       "       [0.54082829, 0.52837905, 0.52157391, 0.49755237, 0.5002756 ],\n",
       "       [0.54082829, 0.52837905, 0.52157391, 0.49755237, 0.5002756 ]])"
      ]
     },
     "execution_count": 20,
     "metadata": {},
     "output_type": "execute_result"
    }
   ],
   "source": [
    "# 调用所有交叉验证的结果\n",
    "# lasso_.mse_path_"
   ]
  },
  {
   "cell_type": "code",
   "execution_count": 21,
   "metadata": {},
   "outputs": [
    {
     "data": {
      "text/plain": [
       "(200, 5)"
      ]
     },
     "execution_count": 21,
     "metadata": {},
     "output_type": "execute_result"
    }
   ],
   "source": [
    "lasso_.mse_path_.shape"
   ]
  },
  {
   "cell_type": "code",
   "execution_count": 22,
   "metadata": {},
   "outputs": [
    {
     "data": {
      "text/plain": [
       "array([0.5235276 , 0.52252145, 0.52168323, 0.52098952, 0.52041464,\n",
       "       0.51993914, 0.51954553, 0.51922017, 0.51895095, 0.5187289 ,\n",
       "       0.51854539, 0.51839422, 0.51826953, 0.51816699, 0.51808254,\n",
       "       0.51801316, 0.51795636, 0.51790975, 0.51787162, 0.51784046,\n",
       "       0.51781516, 0.51779455, 0.51777785, 0.51776437, 0.51775352,\n",
       "       0.51774483, 0.51773793, 0.51773242, 0.51772808, 0.51772471,\n",
       "       0.51772212, 0.51772016, 0.51771869, 0.51771763, 0.51771689,\n",
       "       0.5177164 , 0.51771611, 0.51771598, 0.51771596, 0.51771605,\n",
       "       0.5177162 , 0.51771639, 0.51771662, 0.51771687, 0.51771713,\n",
       "       0.51771741, 0.51771767, 0.51771794, 0.5177182 , 0.51771846,\n",
       "       0.5177187 , 0.51771893, 0.51771915, 0.51771935, 0.51771954,\n",
       "       0.51771972, 0.51771989, 0.51772005, 0.5177202 , 0.51772033,\n",
       "       0.51772045, 0.51772057, 0.51772068, 0.51772077, 0.51772086,\n",
       "       0.51772095, 0.51772102, 0.51772109, 0.51772116, 0.51772122,\n",
       "       0.51772127, 0.51772132, 0.51772137, 0.51772141, 0.51772145,\n",
       "       0.51772148, 0.51772151, 0.51772154, 0.51772157, 0.51772159,\n",
       "       0.51772161, 0.51772163, 0.51772165, 0.51772167, 0.51772168,\n",
       "       0.5177217 , 0.51772171, 0.51772172, 0.51772173, 0.51772174,\n",
       "       0.51772175, 0.51772176, 0.51772177, 0.51772177, 0.51772178,\n",
       "       0.51772179, 0.51772179, 0.5177218 , 0.5177218 , 0.5177218 ,\n",
       "       0.51772181, 0.51772181, 0.51772181, 0.51772182, 0.51772182,\n",
       "       0.51772182, 0.51772182, 0.51772183, 0.51772183, 0.51772183,\n",
       "       0.51772183, 0.51772183, 0.51772183, 0.51772183, 0.51772183,\n",
       "       0.51772184, 0.51772184, 0.51772184, 0.51772184, 0.51772184,\n",
       "       0.51772184, 0.51772184, 0.51772184, 0.51772184, 0.51772184,\n",
       "       0.51772184, 0.51772184, 0.51772184, 0.51772184, 0.51772184,\n",
       "       0.51772184, 0.51772184, 0.51772184, 0.51772184, 0.51772184,\n",
       "       0.51772184, 0.51772184, 0.51772184, 0.51772184, 0.51772184,\n",
       "       0.51772184, 0.51772184, 0.51772184, 0.51772184, 0.51772184,\n",
       "       0.51772184, 0.51772184, 0.51772184, 0.51772184, 0.51772184,\n",
       "       0.51772184, 0.51772184, 0.51772184, 0.51772184, 0.51772184,\n",
       "       0.51772184, 0.51772184, 0.51772184, 0.51772184, 0.51772184,\n",
       "       0.51772184, 0.51772184, 0.51772184, 0.51772184, 0.51772184,\n",
       "       0.51772184, 0.51772184, 0.51772184, 0.51772184, 0.51772184,\n",
       "       0.51772184, 0.51772184, 0.51772184, 0.51772184, 0.51772184,\n",
       "       0.51772184, 0.51772184, 0.51772184, 0.51772184, 0.51772184,\n",
       "       0.51772184, 0.51772184, 0.51772184, 0.51772184, 0.51772184,\n",
       "       0.51772184, 0.51772184, 0.51772184, 0.51772184, 0.51772184,\n",
       "       0.51772184, 0.51772184, 0.51772184, 0.51772184, 0.51772184,\n",
       "       0.51772184, 0.51772184, 0.51772184, 0.51772184, 0.51772184])"
      ]
     },
     "execution_count": 22,
     "metadata": {},
     "output_type": "execute_result"
    }
   ],
   "source": [
    "lasso_.mse_path_.mean(axis=1)\n",
    "# 在岭回归中，axis=0但是这里的axis=1，原因是在岭回归中使用的是留一交叉验证，返回的结果是每一个\n",
    "# 样本在每个alpha下的交叉验证的结果，因此要求每个alpha下的均值就是axis=0，跨行计算\n",
    "# 但是在lasso中返回的是每一个alpha下的交叉验证的结果，因此要求每个alpha下的均值，就是求axis=1\n",
    "# 跨列求和"
   ]
  },
  {
   "cell_type": "code",
   "execution_count": 23,
   "metadata": {},
   "outputs": [
    {
     "data": {
      "text/plain": [
       "array([ 4.51805716e-01,  9.62580889e-03, -1.28088430e-01,  8.24495018e-01,\n",
       "       -4.31937935e-06, -4.22741699e-03, -4.18148981e-01, -4.31532199e-01])"
      ]
     },
     "execution_count": 23,
     "metadata": {},
     "output_type": "execute_result"
    }
   ],
   "source": [
    "# 最佳正则化系数下获得的模型的系数结果\n",
    "lasso_.coef_"
   ]
  },
  {
   "cell_type": "code",
   "execution_count": 24,
   "metadata": {},
   "outputs": [
    {
     "data": {
      "text/plain": [
       "0.5809136739722959"
      ]
     },
     "execution_count": 24,
     "metadata": {},
     "output_type": "execute_result"
    }
   ],
   "source": [
    "lasso_.score(x_test,y_test)"
   ]
  },
  {
   "cell_type": "code",
   "execution_count": 26,
   "metadata": {},
   "outputs": [],
   "source": [
    "# 使用lasso自带的正则化路径长度和路径中的alpha个数来自动建立alpha的选择范围\n",
    "ls_ = LassoCV(eps=0.00001\n",
    "             , n_alphas=300\n",
    "             , cv=5\n",
    "             ).fit(x_train,y_train)"
   ]
  },
  {
   "cell_type": "code",
   "execution_count": 27,
   "metadata": {},
   "outputs": [
    {
     "data": {
      "text/plain": [
       "0.000333857162673231"
      ]
     },
     "execution_count": 27,
     "metadata": {},
     "output_type": "execute_result"
    }
   ],
   "source": [
    "ls_.alpha_"
   ]
  },
  {
   "cell_type": "code",
   "execution_count": 28,
   "metadata": {
    "collapsed": true,
    "jupyter": {
     "outputs_hidden": true
    }
   },
   "outputs": [
    {
     "data": {
      "text/plain": [
       "array([3.33857163e+01, 3.21246415e+01, 3.09112012e+01, 2.97435960e+01,\n",
       "       2.86200947e+01, 2.75390312e+01, 2.64988026e+01, 2.54978664e+01,\n",
       "       2.45347385e+01, 2.36079907e+01, 2.27162489e+01, 2.18581907e+01,\n",
       "       2.10325438e+01, 2.02380840e+01, 1.94736332e+01, 1.87380580e+01,\n",
       "       1.80302675e+01, 1.73492123e+01, 1.66938825e+01, 1.60633065e+01,\n",
       "       1.54565491e+01, 1.48727107e+01, 1.43109255e+01, 1.37703606e+01,\n",
       "       1.32502144e+01, 1.27497156e+01, 1.22681221e+01, 1.18047198e+01,\n",
       "       1.13588215e+01, 1.09297660e+01, 1.05169173e+01, 1.01196630e+01,\n",
       "       9.73741414e+00, 9.36960394e+00, 9.01568699e+00, 8.67513850e+00,\n",
       "       8.34745351e+00, 8.03214613e+00, 7.72874882e+00, 7.43681170e+00,\n",
       "       7.15590188e+00, 6.88560284e+00, 6.62551377e+00, 6.37524902e+00,\n",
       "       6.13443748e+00, 5.90272210e+00, 5.67975927e+00, 5.46521839e+00,\n",
       "       5.25878134e+00, 5.06014201e+00, 4.86900586e+00, 4.68508947e+00,\n",
       "       4.50812013e+00, 4.33783544e+00, 4.17398289e+00, 4.01631953e+00,\n",
       "       3.86461156e+00, 3.71863404e+00, 3.57817051e+00, 3.44301270e+00,\n",
       "       3.31296018e+00, 3.18782013e+00, 3.06740697e+00, 2.95154217e+00,\n",
       "       2.84005391e+00, 2.73277689e+00, 2.62955203e+00, 2.53022627e+00,\n",
       "       2.43465233e+00, 2.34268849e+00, 2.25419840e+00, 2.16905082e+00,\n",
       "       2.08711952e+00, 2.00828300e+00, 1.93242436e+00, 1.85943112e+00,\n",
       "       1.78919505e+00, 1.72161200e+00, 1.65658175e+00, 1.59400788e+00,\n",
       "       1.53379761e+00, 1.47586165e+00, 1.42011410e+00, 1.36647230e+00,\n",
       "       1.31485670e+00, 1.26519077e+00, 1.21740087e+00, 1.17141613e+00,\n",
       "       1.12716837e+00, 1.08459197e+00, 1.04362380e+00, 1.00420312e+00,\n",
       "       9.66271476e-01, 9.29772617e-01, 8.94652425e-01, 8.60858824e-01,\n",
       "       8.28341705e-01, 7.97052851e-01, 7.66945867e-01, 7.37976111e-01,\n",
       "       7.10100626e-01, 6.83278078e-01, 6.57468696e-01, 6.32634208e-01,\n",
       "       6.08737790e-01, 5.85744009e-01, 5.63618769e-01, 5.42329264e-01,\n",
       "       5.21843924e-01, 5.02132375e-01, 4.83165388e-01, 4.64914838e-01,\n",
       "       4.47353664e-01, 4.30455827e-01, 4.14196270e-01, 3.98550882e-01,\n",
       "       3.83496467e-01, 3.69010700e-01, 3.55072102e-01, 3.41660005e-01,\n",
       "       3.28754522e-01, 3.16336516e-01, 3.04387574e-01, 2.92889978e-01,\n",
       "       2.81826679e-01, 2.71181273e-01, 2.60937974e-01, 2.51081595e-01,\n",
       "       2.41597519e-01, 2.32471685e-01, 2.23690559e-01, 2.15241122e-01,\n",
       "       2.07110844e-01, 1.99287670e-01, 1.91760001e-01, 1.84516673e-01,\n",
       "       1.77546946e-01, 1.70840486e-01, 1.64387348e-01, 1.58177964e-01,\n",
       "       1.52203127e-01, 1.46453976e-01, 1.40921987e-01, 1.35598957e-01,\n",
       "       1.30476994e-01, 1.25548502e-01, 1.20806173e-01, 1.16242976e-01,\n",
       "       1.11852143e-01, 1.07627165e-01, 1.03561777e-01, 9.96499502e-02,\n",
       "       9.58858844e-02, 9.22639981e-02, 8.87789209e-02, 8.54254852e-02,\n",
       "       8.21987183e-02, 7.90938358e-02, 7.61062336e-02, 7.32314818e-02,\n",
       "       7.04653176e-02, 6.78036395e-02, 6.52425005e-02, 6.27781032e-02,\n",
       "       6.04067933e-02, 5.81250546e-02, 5.59295037e-02, 5.38168851e-02,\n",
       "       5.17840663e-02, 4.98280328e-02, 4.79458844e-02, 4.61348301e-02,\n",
       "       4.43921846e-02, 4.27153638e-02, 4.11018814e-02, 3.95493448e-02,\n",
       "       3.80554521e-02, 3.66179879e-02, 3.52348210e-02, 3.39039002e-02,\n",
       "       3.26232522e-02, 3.13909779e-02, 3.02052502e-02, 2.90643108e-02,\n",
       "       2.79664680e-02, 2.69100939e-02, 2.58936221e-02, 2.49155453e-02,\n",
       "       2.39744134e-02, 2.30688307e-02, 2.21974544e-02, 2.13589926e-02,\n",
       "       2.05522019e-02, 1.97758860e-02, 1.90288937e-02, 1.83101176e-02,\n",
       "       1.76184916e-02, 1.69529904e-02, 1.63126271e-02, 1.56964522e-02,\n",
       "       1.51035519e-02, 1.45330472e-02, 1.39840921e-02, 1.34558727e-02,\n",
       "       1.29476056e-02, 1.24585372e-02, 1.19879423e-02, 1.15351232e-02,\n",
       "       1.10994083e-02, 1.06801517e-02, 1.02767316e-02, 9.88854979e-03,\n",
       "       9.51503076e-03, 9.15562062e-03, 8.80978643e-03, 8.47701541e-03,\n",
       "       8.15681410e-03, 7.84870772e-03, 7.55223940e-03, 7.26696955e-03,\n",
       "       6.99247516e-03, 6.72834922e-03, 6.47420007e-03, 6.22965087e-03,\n",
       "       5.99433900e-03, 5.76791554e-03, 5.55004474e-03, 5.34040355e-03,\n",
       "       5.13868112e-03, 4.94457832e-03, 4.75780734e-03, 4.57809124e-03,\n",
       "       4.40516354e-03, 4.23876781e-03, 4.07865733e-03, 3.92459469e-03,\n",
       "       3.77635144e-03, 3.63370776e-03, 3.49645214e-03, 3.36438106e-03,\n",
       "       3.23729869e-03, 3.11501659e-03, 2.99735343e-03, 2.88413475e-03,\n",
       "       2.77519267e-03, 2.67036564e-03, 2.56949823e-03, 2.47244088e-03,\n",
       "       2.37904966e-03, 2.28918610e-03, 2.20271694e-03, 2.11951397e-03,\n",
       "       2.03945382e-03, 1.96241777e-03, 1.88829159e-03, 1.81696538e-03,\n",
       "       1.74833336e-03, 1.68229376e-03, 1.61874868e-03, 1.55760388e-03,\n",
       "       1.49876869e-03, 1.44215587e-03, 1.38768149e-03, 1.33526476e-03,\n",
       "       1.28482796e-03, 1.23629630e-03, 1.18959783e-03, 1.14466329e-03,\n",
       "       1.10142606e-03, 1.05982202e-03, 1.01978949e-03, 9.81269099e-04,\n",
       "       9.44203737e-04, 9.08538440e-04, 8.74220324e-04, 8.41198502e-04,\n",
       "       8.09424010e-04, 7.78849732e-04, 7.49430332e-04, 7.21122188e-04,\n",
       "       6.93883325e-04, 6.67673351e-04, 6.42453404e-04, 6.18186087e-04,\n",
       "       5.94835417e-04, 5.72366768e-04, 5.50746825e-04, 5.29943530e-04,\n",
       "       5.09926035e-04, 4.90664659e-04, 4.72130841e-04, 4.54297098e-04,\n",
       "       4.37136987e-04, 4.20625063e-04, 4.04736842e-04, 3.89448764e-04,\n",
       "       3.74738162e-04, 3.60583221e-04, 3.46962954e-04, 3.33857163e-04])"
      ]
     },
     "execution_count": 28,
     "metadata": {},
     "output_type": "execute_result"
    }
   ],
   "source": [
    "ls_.alphas_"
   ]
  },
  {
   "cell_type": "code",
   "execution_count": null,
   "metadata": {},
   "outputs": [],
   "source": []
  }
 ],
 "metadata": {
  "kernelspec": {
   "display_name": "Python 3",
   "language": "python",
   "name": "python3"
  },
  "language_info": {
   "codemirror_mode": {
    "name": "ipython",
    "version": 3
   },
   "file_extension": ".py",
   "mimetype": "text/x-python",
   "name": "python",
   "nbconvert_exporter": "python",
   "pygments_lexer": "ipython3",
   "version": "3.7.6"
  }
 },
 "nbformat": 4,
 "nbformat_minor": 4
}
